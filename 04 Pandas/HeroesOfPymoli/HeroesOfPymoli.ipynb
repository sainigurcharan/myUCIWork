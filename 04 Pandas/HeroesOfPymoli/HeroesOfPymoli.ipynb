{
 "cells": [
  {
   "cell_type": "code",
   "execution_count": 1,
   "metadata": {},
   "outputs": [],
   "source": [
    "# importing the pandas library\n",
    "import pandas as pd"
   ]
  },
  {
   "cell_type": "code",
   "execution_count": 2,
   "metadata": {},
   "outputs": [
    {
     "data": {
      "text/html": [
       "<div>\n",
       "<style scoped>\n",
       "    .dataframe tbody tr th:only-of-type {\n",
       "        vertical-align: middle;\n",
       "    }\n",
       "\n",
       "    .dataframe tbody tr th {\n",
       "        vertical-align: top;\n",
       "    }\n",
       "\n",
       "    .dataframe thead th {\n",
       "        text-align: right;\n",
       "    }\n",
       "</style>\n",
       "<table border=\"1\" class=\"dataframe\">\n",
       "  <thead>\n",
       "    <tr style=\"text-align: right;\">\n",
       "      <th></th>\n",
       "      <th>Purchase ID</th>\n",
       "      <th>SN</th>\n",
       "      <th>Age</th>\n",
       "      <th>Gender</th>\n",
       "      <th>Item ID</th>\n",
       "      <th>Item Name</th>\n",
       "      <th>Price</th>\n",
       "    </tr>\n",
       "  </thead>\n",
       "  <tbody>\n",
       "    <tr>\n",
       "      <th>0</th>\n",
       "      <td>0</td>\n",
       "      <td>Lisim78</td>\n",
       "      <td>20</td>\n",
       "      <td>Male</td>\n",
       "      <td>108</td>\n",
       "      <td>Extraction, Quickblade Of Trembling Hands</td>\n",
       "      <td>3.53</td>\n",
       "    </tr>\n",
       "    <tr>\n",
       "      <th>1</th>\n",
       "      <td>1</td>\n",
       "      <td>Lisovynya38</td>\n",
       "      <td>40</td>\n",
       "      <td>Male</td>\n",
       "      <td>143</td>\n",
       "      <td>Frenzied Scimitar</td>\n",
       "      <td>1.56</td>\n",
       "    </tr>\n",
       "    <tr>\n",
       "      <th>2</th>\n",
       "      <td>2</td>\n",
       "      <td>Ithergue48</td>\n",
       "      <td>24</td>\n",
       "      <td>Male</td>\n",
       "      <td>92</td>\n",
       "      <td>Final Critic</td>\n",
       "      <td>4.88</td>\n",
       "    </tr>\n",
       "    <tr>\n",
       "      <th>3</th>\n",
       "      <td>3</td>\n",
       "      <td>Chamassasya86</td>\n",
       "      <td>24</td>\n",
       "      <td>Male</td>\n",
       "      <td>100</td>\n",
       "      <td>Blindscythe</td>\n",
       "      <td>3.27</td>\n",
       "    </tr>\n",
       "    <tr>\n",
       "      <th>4</th>\n",
       "      <td>4</td>\n",
       "      <td>Iskosia90</td>\n",
       "      <td>23</td>\n",
       "      <td>Male</td>\n",
       "      <td>131</td>\n",
       "      <td>Fury</td>\n",
       "      <td>1.44</td>\n",
       "    </tr>\n",
       "  </tbody>\n",
       "</table>\n",
       "</div>"
      ],
      "text/plain": [
       "   Purchase ID             SN  Age Gender  Item ID  \\\n",
       "0            0        Lisim78   20   Male      108   \n",
       "1            1    Lisovynya38   40   Male      143   \n",
       "2            2     Ithergue48   24   Male       92   \n",
       "3            3  Chamassasya86   24   Male      100   \n",
       "4            4      Iskosia90   23   Male      131   \n",
       "\n",
       "                                   Item Name  Price  \n",
       "0  Extraction, Quickblade Of Trembling Hands   3.53  \n",
       "1                          Frenzied Scimitar   1.56  \n",
       "2                               Final Critic   4.88  \n",
       "3                                Blindscythe   3.27  \n",
       "4                                       Fury   1.44  "
      ]
     },
     "execution_count": 2,
     "metadata": {},
     "output_type": "execute_result"
    }
   ],
   "source": [
    "# setting up the csv path and import to data frame\n",
    "filePath = \"Resources/purchase_data.csv\"\n",
    "mainDF = pd.read_csv(filePath)\n",
    "mainDF.head()"
   ]
  },
  {
   "cell_type": "markdown",
   "metadata": {},
   "source": [
    "# Players Count"
   ]
  },
  {
   "cell_type": "markdown",
   "metadata": {},
   "source": [
    "* Total Number of Players"
   ]
  },
  {
   "cell_type": "code",
   "execution_count": 3,
   "metadata": {},
   "outputs": [
    {
     "data": {
      "text/html": [
       "<div>\n",
       "<style scoped>\n",
       "    .dataframe tbody tr th:only-of-type {\n",
       "        vertical-align: middle;\n",
       "    }\n",
       "\n",
       "    .dataframe tbody tr th {\n",
       "        vertical-align: top;\n",
       "    }\n",
       "\n",
       "    .dataframe thead th {\n",
       "        text-align: right;\n",
       "    }\n",
       "</style>\n",
       "<table border=\"1\" class=\"dataframe\">\n",
       "  <thead>\n",
       "    <tr style=\"text-align: right;\">\n",
       "      <th></th>\n",
       "      <th>Total Players</th>\n",
       "    </tr>\n",
       "  </thead>\n",
       "  <tbody>\n",
       "    <tr>\n",
       "      <th>0</th>\n",
       "      <td>576</td>\n",
       "    </tr>\n",
       "  </tbody>\n",
       "</table>\n",
       "</div>"
      ],
      "text/plain": [
       "   Total Players\n",
       "0            576"
      ]
     },
     "execution_count": 3,
     "metadata": {},
     "output_type": "execute_result"
    }
   ],
   "source": [
    "uniquePlayer = mainDF[\"SN\"].nunique()\n",
    "#print(\"Total Number of Players: \" + str(uniquePlayer))\n",
    "totPlayerDF = pd.DataFrame({\n",
    "    \"Total Players\": [uniquePlayer]},\n",
    "    columns= [\"Total Players\"])\n",
    "totPlayerDF.head()"
   ]
  },
  {
   "cell_type": "markdown",
   "metadata": {},
   "source": [
    "# Purchasing Analysis (Total)"
   ]
  },
  {
   "cell_type": "markdown",
   "metadata": {},
   "source": [
    "* Number of Unique Items\n",
    "* Average Purchase Price\n",
    "* Total Number of Purchases\n",
    "* Total Revenue"
   ]
  },
  {
   "cell_type": "code",
   "execution_count": 14,
   "metadata": {},
   "outputs": [
    {
     "data": {
      "text/html": [
       "<style  type=\"text/css\" >\n",
       "</style><table id=\"T_a2ccdfee_d815_11e9_9094_a0510b157e5c\" ><thead>    <tr>        <th class=\"blank level0\" ></th>        <th class=\"col_heading level0 col0\" >Number of Unique Items</th>        <th class=\"col_heading level0 col1\" >Average Purchase Price</th>        <th class=\"col_heading level0 col2\" >Number of Purchases</th>        <th class=\"col_heading level0 col3\" >Total Revenue</th>    </tr></thead><tbody>\n",
       "                <tr>\n",
       "                        <th id=\"T_a2ccdfee_d815_11e9_9094_a0510b157e5clevel0_row0\" class=\"row_heading level0 row0\" >0</th>\n",
       "                        <td id=\"T_a2ccdfee_d815_11e9_9094_a0510b157e5crow0_col0\" class=\"data row0 col0\" >183</td>\n",
       "                        <td id=\"T_a2ccdfee_d815_11e9_9094_a0510b157e5crow0_col1\" class=\"data row0 col1\" >$3.05</td>\n",
       "                        <td id=\"T_a2ccdfee_d815_11e9_9094_a0510b157e5crow0_col2\" class=\"data row0 col2\" >780</td>\n",
       "                        <td id=\"T_a2ccdfee_d815_11e9_9094_a0510b157e5crow0_col3\" class=\"data row0 col3\" >$2379.77</td>\n",
       "            </tr>\n",
       "    </tbody></table>"
      ],
      "text/plain": [
       "<pandas.io.formats.style.Styler at 0x29446737e10>"
      ]
     },
     "execution_count": 14,
     "metadata": {},
     "output_type": "execute_result"
    }
   ],
   "source": [
    "uniqueTotalItems = mainDF['Item ID'].nunique()\n",
    "totPurchase = mainDF['Price'].count()\n",
    "totRevenue = mainDF[\"Price\"].sum()\n",
    "avgprice = (totRevenue/totPurchase).round(2)\n",
    "colName = [\"Number of Unique Items\", \"Average Purchase Price\", \"Number of Purchases\", \"Total Revenue\"]\n",
    "\n",
    "# presenting data into Purchasing Analysis data frame to present\n",
    "purchaseAnalysisDF = pd.DataFrame({\"Number of Unique Items\": [uniqueTotalItems], \n",
    "                              \"Average Purchase Price\": [avgprice],\n",
    "                             \"Number of Purchases\": [totPurchase],\n",
    "                             \"Total Revenue\": [totRevenue]},\n",
    "                              columns=colName)\n",
    "# format the float columns\n",
    "purchaseAnalysisDF.style.format({\n",
    "    \"Average Purchase Price\": \"${:.2f}\",\n",
    "    \"Total Revenue\": \"${:.2f}\"})"
   ]
  },
  {
   "cell_type": "markdown",
   "metadata": {},
   "source": [
    "# Gender Demographics\n",
    "\n",
    "* Percentage and Count of Male Players\n",
    "* Percentage and Count of Female Players\n",
    "* Percentage and Count of Other / Non-Disclosed"
   ]
  },
  {
   "cell_type": "code",
   "execution_count": 15,
   "metadata": {},
   "outputs": [
    {
     "data": {
      "text/html": [
       "<style  type=\"text/css\" >\n",
       "</style><table id=\"T_a62e5942_d815_11e9_a592_a0510b157e5c\" ><thead>    <tr>        <th class=\"blank level0\" ></th>        <th class=\"col_heading level0 col0\" >Total Count</th>        <th class=\"col_heading level0 col1\" >Percentage of Players</th>    </tr>    <tr>        <th class=\"index_name level0\" >Gender</th>        <th class=\"blank\" ></th>        <th class=\"blank\" ></th>    </tr></thead><tbody>\n",
       "                <tr>\n",
       "                        <th id=\"T_a62e5942_d815_11e9_a592_a0510b157e5clevel0_row0\" class=\"row_heading level0 row0\" >Male</th>\n",
       "                        <td id=\"T_a62e5942_d815_11e9_a592_a0510b157e5crow0_col0\" class=\"data row0 col0\" >484</td>\n",
       "                        <td id=\"T_a62e5942_d815_11e9_a592_a0510b157e5crow0_col1\" class=\"data row0 col1\" >84.03%</td>\n",
       "            </tr>\n",
       "            <tr>\n",
       "                        <th id=\"T_a62e5942_d815_11e9_a592_a0510b157e5clevel0_row1\" class=\"row_heading level0 row1\" >Female</th>\n",
       "                        <td id=\"T_a62e5942_d815_11e9_a592_a0510b157e5crow1_col0\" class=\"data row1 col0\" >81</td>\n",
       "                        <td id=\"T_a62e5942_d815_11e9_a592_a0510b157e5crow1_col1\" class=\"data row1 col1\" >14.06%</td>\n",
       "            </tr>\n",
       "            <tr>\n",
       "                        <th id=\"T_a62e5942_d815_11e9_a592_a0510b157e5clevel0_row2\" class=\"row_heading level0 row2\" >Other/ Non-Disclosed</th>\n",
       "                        <td id=\"T_a62e5942_d815_11e9_a592_a0510b157e5crow2_col0\" class=\"data row2 col0\" >11</td>\n",
       "                        <td id=\"T_a62e5942_d815_11e9_a592_a0510b157e5crow2_col1\" class=\"data row2 col1\" >1.91%</td>\n",
       "            </tr>\n",
       "    </tbody></table>"
      ],
      "text/plain": [
       "<pandas.io.formats.style.Styler at 0x29444e7d240>"
      ]
     },
     "execution_count": 15,
     "metadata": {},
     "output_type": "execute_result"
    }
   ],
   "source": [
    "totPlayer = mainDF[\"SN\"].nunique()\n",
    "genderMale = mainDF[mainDF[\"Gender\"] == \"Male\"][\"SN\"].nunique()\n",
    "genderFemale = mainDF[mainDF[\"Gender\"] == \"Female\"][\"SN\"].nunique()\n",
    "#genderOther = mainDF[mainDF[\"Gender\"] == \"Other / Non-Disclosed\"].nunique()\n",
    "genderOther = totPlayer - (genderMale + genderFemale)\n",
    "genderMalePerc = ((genderMale/totPlayer)*100)\n",
    "genderFemalePerc = ((genderFemale/totPlayer)*100)\n",
    "genderOtherPerc = ((genderOther/totPlayer)*100)\n",
    "colName = [\"Gender\", \"Total Count\", \"Percentage of Players\"]\n",
    "\n",
    "# presenting data into Gender Demographics data frame to present\n",
    "genderDemographicDF = pd.DataFrame({\n",
    "    \"Gender\": [\"Male\", \"Female\", \"Other/ Non-Disclosed\"],\n",
    "    \"Total Count\": [genderMale, genderFemale, genderOther],\n",
    "    \"Percentage of Players\": [genderMalePerc, genderFemalePerc, genderOtherPerc]},\n",
    "    columns = colName)\n",
    "# format the float columns\n",
    "genderDemographicDF = genderDemographicDF.set_index(\"Gender\")\n",
    "genderDemographicDF.style.format({\n",
    "    \"Total Count\": \"{:.0f}\",\n",
    "    \"Percentage of Players\": \"{:.2f}%\"\n",
    "})"
   ]
  },
  {
   "cell_type": "markdown",
   "metadata": {},
   "source": [
    "# Purchasing Analysis (Gender)\n",
    "\n",
    "* The below each broken by gender\n",
    "\n",
    "    * Purchase Count\n",
    "    * Average Purchase Price\n",
    "    * Total Purchase Value\n",
    "    * Average Purchase Total per Person by Gender"
   ]
  },
  {
   "cell_type": "code",
   "execution_count": 16,
   "metadata": {},
   "outputs": [
    {
     "data": {
      "text/html": [
       "<style  type=\"text/css\" >\n",
       "</style><table id=\"T_aa3eb134_d815_11e9_977e_a0510b157e5c\" ><thead>    <tr>        <th class=\"blank level0\" ></th>        <th class=\"col_heading level0 col0\" >Purchase Count</th>        <th class=\"col_heading level0 col1\" >Average Purchase Price</th>        <th class=\"col_heading level0 col2\" >Total Purchase Value</th>        <th class=\"col_heading level0 col3\" >Avg Purchase Total PP By Gender</th>    </tr>    <tr>        <th class=\"index_name level0\" >Gender</th>        <th class=\"blank\" ></th>        <th class=\"blank\" ></th>        <th class=\"blank\" ></th>        <th class=\"blank\" ></th>    </tr></thead><tbody>\n",
       "                <tr>\n",
       "                        <th id=\"T_aa3eb134_d815_11e9_977e_a0510b157e5clevel0_row0\" class=\"row_heading level0 row0\" >Female</th>\n",
       "                        <td id=\"T_aa3eb134_d815_11e9_977e_a0510b157e5crow0_col0\" class=\"data row0 col0\" >113</td>\n",
       "                        <td id=\"T_aa3eb134_d815_11e9_977e_a0510b157e5crow0_col1\" class=\"data row0 col1\" >$3.20</td>\n",
       "                        <td id=\"T_aa3eb134_d815_11e9_977e_a0510b157e5crow0_col2\" class=\"data row0 col2\" >$361.94</td>\n",
       "                        <td id=\"T_aa3eb134_d815_11e9_977e_a0510b157e5crow0_col3\" class=\"data row0 col3\" >$4.47</td>\n",
       "            </tr>\n",
       "            <tr>\n",
       "                        <th id=\"T_aa3eb134_d815_11e9_977e_a0510b157e5clevel0_row1\" class=\"row_heading level0 row1\" >Male</th>\n",
       "                        <td id=\"T_aa3eb134_d815_11e9_977e_a0510b157e5crow1_col0\" class=\"data row1 col0\" >652</td>\n",
       "                        <td id=\"T_aa3eb134_d815_11e9_977e_a0510b157e5crow1_col1\" class=\"data row1 col1\" >$3.02</td>\n",
       "                        <td id=\"T_aa3eb134_d815_11e9_977e_a0510b157e5crow1_col2\" class=\"data row1 col2\" >$1967.64</td>\n",
       "                        <td id=\"T_aa3eb134_d815_11e9_977e_a0510b157e5crow1_col3\" class=\"data row1 col3\" >$4.07</td>\n",
       "            </tr>\n",
       "            <tr>\n",
       "                        <th id=\"T_aa3eb134_d815_11e9_977e_a0510b157e5clevel0_row2\" class=\"row_heading level0 row2\" >Other / Non-Disclosed</th>\n",
       "                        <td id=\"T_aa3eb134_d815_11e9_977e_a0510b157e5crow2_col0\" class=\"data row2 col0\" >15</td>\n",
       "                        <td id=\"T_aa3eb134_d815_11e9_977e_a0510b157e5crow2_col1\" class=\"data row2 col1\" >$3.35</td>\n",
       "                        <td id=\"T_aa3eb134_d815_11e9_977e_a0510b157e5crow2_col2\" class=\"data row2 col2\" >$50.19</td>\n",
       "                        <td id=\"T_aa3eb134_d815_11e9_977e_a0510b157e5crow2_col3\" class=\"data row2 col3\" >$4.56</td>\n",
       "            </tr>\n",
       "    </tbody></table>"
      ],
      "text/plain": [
       "<pandas.io.formats.style.Styler at 0x2944672d470>"
      ]
     },
     "execution_count": 16,
     "metadata": {},
     "output_type": "execute_result"
    }
   ],
   "source": [
    "totMalePurchase = mainDF[mainDF[\"Gender\"] == \"Male\"][\"Price\"].count()\n",
    "totFemalePurchase = mainDF[mainDF[\"Gender\"] == \"Female\"][\"Price\"].count()\n",
    "# 'totPurchase' from Purchasing Analysis data above\n",
    "totOtherPurchase = totPurchase - (totMalePurchase + totFemalePurchase)\n",
    "malePriceAvg = mainDF[mainDF[\"Gender\"] == \"Male\"]['Price'].mean()\n",
    "femalePriceAvg = mainDF[mainDF[\"Gender\"] == \"Female\"]['Price'].mean()\n",
    "otherPriceAvg = mainDF[mainDF[\"Gender\"] == \"Other / Non-Disclosed\"]['Price'].mean()\n",
    "malePriceTot = mainDF[mainDF[\"Gender\"] == \"Male\"]['Price'].sum()\n",
    "femalePriceTot = mainDF[mainDF[\"Gender\"] == \"Female\"]['Price'].sum()\n",
    "otherPriceTot = mainDF[mainDF[\"Gender\"] == \"Other / Non-Disclosed\"]['Price'].sum()\n",
    "# 'genderMale', 'genderFemale', 'genderOther' from Gender Demographic data above\n",
    "maleAvgPurchaseTot = malePriceTot/genderMale\n",
    "femaleAvgPurchaseTot = femalePriceTot/genderFemale\n",
    "otherAvgPurchaseTot = otherPriceTot/genderOther\n",
    "colName = [\"Gender\", \"Purchase Count\", \"Average Purchase Price\", \"Total Purchase Value\", \"Avg Purchase Total PP By Gender\"]\n",
    "\n",
    "# presenting data into Purchasing Analysis (Gender) data frame to present\n",
    "genderPurchaseAnalysisDF = pd.DataFrame({\n",
    "    \"Gender\": [\"Female\", \"Male\", \"Other / Non-Disclosed\"], \n",
    "    \"Purchase Count\": [totFemalePurchase, totMalePurchase, totOtherPurchase],\n",
    "    \"Average Purchase Price\": [femalePriceAvg, malePriceAvg, otherPriceAvg], \n",
    "    \"Total Purchase Value\": [femalePriceTot, malePriceTot, otherPriceTot],\n",
    "    \"Avg Purchase Total PP By Gender\": [femaleAvgPurchaseTot, maleAvgPurchaseTot, otherAvgPurchaseTot]},\n",
    "    columns = colName)\n",
    "# format the float columns                                        \n",
    "genderPurchaseAnalysisDF = genderPurchaseAnalysisDF.set_index(\"Gender\")\n",
    "genderPurchaseAnalysisDF.style.format({\n",
    "    \"Average Purchase Price\": \"${:.2f}\", \n",
    "    \"Total Purchase Value\": \"${:.2f}\", \n",
    "    \"Avg Purchase Total PP By Gender\": \"${:.2f}\"})"
   ]
  },
  {
   "cell_type": "markdown",
   "metadata": {},
   "source": [
    "# Age Demographics\n",
    "\n",
    "* The below each broken into bins of 4 years (i.e. <10, 10-14, 15-19, etc.)"
   ]
  },
  {
   "cell_type": "code",
   "execution_count": 17,
   "metadata": {},
   "outputs": [
    {
     "data": {
      "text/html": [
       "<style  type=\"text/css\" >\n",
       "</style><table id=\"T_ad937adc_d815_11e9_813f_a0510b157e5c\" ><thead>    <tr>        <th class=\"blank level0\" ></th>        <th class=\"col_heading level0 col0\" >Total Count</th>        <th class=\"col_heading level0 col1\" >Percentage of Players</th>    </tr></thead><tbody>\n",
       "                <tr>\n",
       "                        <th id=\"T_ad937adc_d815_11e9_813f_a0510b157e5clevel0_row0\" class=\"row_heading level0 row0\" ><10</th>\n",
       "                        <td id=\"T_ad937adc_d815_11e9_813f_a0510b157e5crow0_col0\" class=\"data row0 col0\" >23</td>\n",
       "                        <td id=\"T_ad937adc_d815_11e9_813f_a0510b157e5crow0_col1\" class=\"data row0 col1\" >3.99%</td>\n",
       "            </tr>\n",
       "            <tr>\n",
       "                        <th id=\"T_ad937adc_d815_11e9_813f_a0510b157e5clevel0_row1\" class=\"row_heading level0 row1\" >10-14</th>\n",
       "                        <td id=\"T_ad937adc_d815_11e9_813f_a0510b157e5crow1_col0\" class=\"data row1 col0\" >28</td>\n",
       "                        <td id=\"T_ad937adc_d815_11e9_813f_a0510b157e5crow1_col1\" class=\"data row1 col1\" >4.86%</td>\n",
       "            </tr>\n",
       "            <tr>\n",
       "                        <th id=\"T_ad937adc_d815_11e9_813f_a0510b157e5clevel0_row2\" class=\"row_heading level0 row2\" >15-19</th>\n",
       "                        <td id=\"T_ad937adc_d815_11e9_813f_a0510b157e5crow2_col0\" class=\"data row2 col0\" >136</td>\n",
       "                        <td id=\"T_ad937adc_d815_11e9_813f_a0510b157e5crow2_col1\" class=\"data row2 col1\" >23.61%</td>\n",
       "            </tr>\n",
       "            <tr>\n",
       "                        <th id=\"T_ad937adc_d815_11e9_813f_a0510b157e5clevel0_row3\" class=\"row_heading level0 row3\" >20-24</th>\n",
       "                        <td id=\"T_ad937adc_d815_11e9_813f_a0510b157e5crow3_col0\" class=\"data row3 col0\" >365</td>\n",
       "                        <td id=\"T_ad937adc_d815_11e9_813f_a0510b157e5crow3_col1\" class=\"data row3 col1\" >63.37%</td>\n",
       "            </tr>\n",
       "            <tr>\n",
       "                        <th id=\"T_ad937adc_d815_11e9_813f_a0510b157e5clevel0_row4\" class=\"row_heading level0 row4\" >25-29</th>\n",
       "                        <td id=\"T_ad937adc_d815_11e9_813f_a0510b157e5crow4_col0\" class=\"data row4 col0\" >101</td>\n",
       "                        <td id=\"T_ad937adc_d815_11e9_813f_a0510b157e5crow4_col1\" class=\"data row4 col1\" >17.53%</td>\n",
       "            </tr>\n",
       "            <tr>\n",
       "                        <th id=\"T_ad937adc_d815_11e9_813f_a0510b157e5clevel0_row5\" class=\"row_heading level0 row5\" >30-34</th>\n",
       "                        <td id=\"T_ad937adc_d815_11e9_813f_a0510b157e5crow5_col0\" class=\"data row5 col0\" >73</td>\n",
       "                        <td id=\"T_ad937adc_d815_11e9_813f_a0510b157e5crow5_col1\" class=\"data row5 col1\" >12.67%</td>\n",
       "            </tr>\n",
       "            <tr>\n",
       "                        <th id=\"T_ad937adc_d815_11e9_813f_a0510b157e5clevel0_row6\" class=\"row_heading level0 row6\" >35-39</th>\n",
       "                        <td id=\"T_ad937adc_d815_11e9_813f_a0510b157e5crow6_col0\" class=\"data row6 col0\" >41</td>\n",
       "                        <td id=\"T_ad937adc_d815_11e9_813f_a0510b157e5crow6_col1\" class=\"data row6 col1\" >7.12%</td>\n",
       "            </tr>\n",
       "            <tr>\n",
       "                        <th id=\"T_ad937adc_d815_11e9_813f_a0510b157e5clevel0_row7\" class=\"row_heading level0 row7\" >40+</th>\n",
       "                        <td id=\"T_ad937adc_d815_11e9_813f_a0510b157e5crow7_col0\" class=\"data row7 col0\" >13</td>\n",
       "                        <td id=\"T_ad937adc_d815_11e9_813f_a0510b157e5crow7_col1\" class=\"data row7 col1\" >2.26%</td>\n",
       "            </tr>\n",
       "    </tbody></table>"
      ],
      "text/plain": [
       "<pandas.io.formats.style.Styler at 0x29446888ac8>"
      ]
     },
     "execution_count": 17,
     "metadata": {},
     "output_type": "execute_result"
    }
   ],
   "source": [
    "ageDemographicBin = [0, 9.99, 14.99, 19.99, 24.99, 29.99, 34.99, 39.99, 99999]\n",
    "ageDemographicLabel = [\"<10\", \"10-14\", \"15-19\", \"20-24\", \"25-29\", \"30-34\", \"35-39\", \"40+\"]\n",
    "\n",
    "# applying the bin ranges on age\n",
    "mainDF[\"Age Range\"] = pd.cut(x=mainDF[\"Age\"], bins=ageDemographicBin, labels=ageDemographicLabel)\n",
    "\n",
    "# total count of each age bin and percentage\n",
    "totCountAgeDemographic = mainDF[\"Age Range\"].value_counts()\n",
    "ageDemographicPerc = ((totCountAgeDemographic / uniquePlayer) * 100).round(2)\n",
    "\n",
    "ageDemographicDF = pd.DataFrame({\n",
    "    \"Total Count\": totCountAgeDemographic,\n",
    "    \"Percentage of Players\": ageDemographicPerc})\n",
    "\n",
    "ageDemographicDF = ageDemographicDF.sort_index()\n",
    "# format the float columns\n",
    "ageDemographicDF.style.format({\n",
    "    \"Percentage of Players\": \"{:.2f}%\"})"
   ]
  },
  {
   "cell_type": "markdown",
   "metadata": {},
   "source": [
    "# Age Demographics (Purchase Analysis)\n",
    "\n",
    "* The below each broken into bins of 4 years (i.e. <10, 10-14, 15-19, etc.)\n",
    "\n",
    "    * Purchase Count\n",
    "    * Average Purchase Price\n",
    "    * Total Purchase Value\n",
    "    * Average Purchase Total per Person by Age Group"
   ]
  },
  {
   "cell_type": "code",
   "execution_count": 8,
   "metadata": {},
   "outputs": [],
   "source": [
    "# group by the age range\n",
    "ageGroupByDF = mainDF.groupby([\"Age Range\"])\n",
    "#ageGroupByDF.head()"
   ]
  },
  {
   "cell_type": "code",
   "execution_count": 18,
   "metadata": {},
   "outputs": [
    {
     "data": {
      "text/html": [
       "<style  type=\"text/css\" >\n",
       "</style><table id=\"T_b31d1b2c_d815_11e9_8d5d_a0510b157e5c\" ><thead>    <tr>        <th class=\"blank level0\" ></th>        <th class=\"col_heading level0 col0\" >Purchase Count</th>        <th class=\"col_heading level0 col1\" >Average Purchase Price</th>        <th class=\"col_heading level0 col2\" >Total Purchase Value</th>        <th class=\"col_heading level0 col3\" >Average Purchase Total Per Person</th>    </tr>    <tr>        <th class=\"index_name level0\" >Age Range</th>        <th class=\"blank\" ></th>        <th class=\"blank\" ></th>        <th class=\"blank\" ></th>        <th class=\"blank\" ></th>    </tr></thead><tbody>\n",
       "                <tr>\n",
       "                        <th id=\"T_b31d1b2c_d815_11e9_8d5d_a0510b157e5clevel0_row0\" class=\"row_heading level0 row0\" ><10</th>\n",
       "                        <td id=\"T_b31d1b2c_d815_11e9_8d5d_a0510b157e5crow0_col0\" class=\"data row0 col0\" >23</td>\n",
       "                        <td id=\"T_b31d1b2c_d815_11e9_8d5d_a0510b157e5crow0_col1\" class=\"data row0 col1\" >$3.35</td>\n",
       "                        <td id=\"T_b31d1b2c_d815_11e9_8d5d_a0510b157e5crow0_col2\" class=\"data row0 col2\" >$77.13</td>\n",
       "                        <td id=\"T_b31d1b2c_d815_11e9_8d5d_a0510b157e5crow0_col3\" class=\"data row0 col3\" >$4.54</td>\n",
       "            </tr>\n",
       "            <tr>\n",
       "                        <th id=\"T_b31d1b2c_d815_11e9_8d5d_a0510b157e5clevel0_row1\" class=\"row_heading level0 row1\" >10-14</th>\n",
       "                        <td id=\"T_b31d1b2c_d815_11e9_8d5d_a0510b157e5crow1_col0\" class=\"data row1 col0\" >28</td>\n",
       "                        <td id=\"T_b31d1b2c_d815_11e9_8d5d_a0510b157e5crow1_col1\" class=\"data row1 col1\" >$2.96</td>\n",
       "                        <td id=\"T_b31d1b2c_d815_11e9_8d5d_a0510b157e5crow1_col2\" class=\"data row1 col2\" >$82.78</td>\n",
       "                        <td id=\"T_b31d1b2c_d815_11e9_8d5d_a0510b157e5crow1_col3\" class=\"data row1 col3\" >$3.76</td>\n",
       "            </tr>\n",
       "            <tr>\n",
       "                        <th id=\"T_b31d1b2c_d815_11e9_8d5d_a0510b157e5clevel0_row2\" class=\"row_heading level0 row2\" >15-19</th>\n",
       "                        <td id=\"T_b31d1b2c_d815_11e9_8d5d_a0510b157e5crow2_col0\" class=\"data row2 col0\" >136</td>\n",
       "                        <td id=\"T_b31d1b2c_d815_11e9_8d5d_a0510b157e5crow2_col1\" class=\"data row2 col1\" >$3.04</td>\n",
       "                        <td id=\"T_b31d1b2c_d815_11e9_8d5d_a0510b157e5crow2_col2\" class=\"data row2 col2\" >$412.89</td>\n",
       "                        <td id=\"T_b31d1b2c_d815_11e9_8d5d_a0510b157e5crow2_col3\" class=\"data row2 col3\" >$3.86</td>\n",
       "            </tr>\n",
       "            <tr>\n",
       "                        <th id=\"T_b31d1b2c_d815_11e9_8d5d_a0510b157e5clevel0_row3\" class=\"row_heading level0 row3\" >20-24</th>\n",
       "                        <td id=\"T_b31d1b2c_d815_11e9_8d5d_a0510b157e5crow3_col0\" class=\"data row3 col0\" >365</td>\n",
       "                        <td id=\"T_b31d1b2c_d815_11e9_8d5d_a0510b157e5crow3_col1\" class=\"data row3 col1\" >$3.05</td>\n",
       "                        <td id=\"T_b31d1b2c_d815_11e9_8d5d_a0510b157e5crow3_col2\" class=\"data row3 col2\" >$1,114.06</td>\n",
       "                        <td id=\"T_b31d1b2c_d815_11e9_8d5d_a0510b157e5crow3_col3\" class=\"data row3 col3\" >$4.32</td>\n",
       "            </tr>\n",
       "            <tr>\n",
       "                        <th id=\"T_b31d1b2c_d815_11e9_8d5d_a0510b157e5clevel0_row4\" class=\"row_heading level0 row4\" >25-29</th>\n",
       "                        <td id=\"T_b31d1b2c_d815_11e9_8d5d_a0510b157e5crow4_col0\" class=\"data row4 col0\" >101</td>\n",
       "                        <td id=\"T_b31d1b2c_d815_11e9_8d5d_a0510b157e5crow4_col1\" class=\"data row4 col1\" >$2.90</td>\n",
       "                        <td id=\"T_b31d1b2c_d815_11e9_8d5d_a0510b157e5crow4_col2\" class=\"data row4 col2\" >$293.00</td>\n",
       "                        <td id=\"T_b31d1b2c_d815_11e9_8d5d_a0510b157e5crow4_col3\" class=\"data row4 col3\" >$3.81</td>\n",
       "            </tr>\n",
       "            <tr>\n",
       "                        <th id=\"T_b31d1b2c_d815_11e9_8d5d_a0510b157e5clevel0_row5\" class=\"row_heading level0 row5\" >30-34</th>\n",
       "                        <td id=\"T_b31d1b2c_d815_11e9_8d5d_a0510b157e5crow5_col0\" class=\"data row5 col0\" >73</td>\n",
       "                        <td id=\"T_b31d1b2c_d815_11e9_8d5d_a0510b157e5crow5_col1\" class=\"data row5 col1\" >$2.93</td>\n",
       "                        <td id=\"T_b31d1b2c_d815_11e9_8d5d_a0510b157e5crow5_col2\" class=\"data row5 col2\" >$214.00</td>\n",
       "                        <td id=\"T_b31d1b2c_d815_11e9_8d5d_a0510b157e5crow5_col3\" class=\"data row5 col3\" >$4.12</td>\n",
       "            </tr>\n",
       "            <tr>\n",
       "                        <th id=\"T_b31d1b2c_d815_11e9_8d5d_a0510b157e5clevel0_row6\" class=\"row_heading level0 row6\" >35-39</th>\n",
       "                        <td id=\"T_b31d1b2c_d815_11e9_8d5d_a0510b157e5crow6_col0\" class=\"data row6 col0\" >41</td>\n",
       "                        <td id=\"T_b31d1b2c_d815_11e9_8d5d_a0510b157e5crow6_col1\" class=\"data row6 col1\" >$3.60</td>\n",
       "                        <td id=\"T_b31d1b2c_d815_11e9_8d5d_a0510b157e5crow6_col2\" class=\"data row6 col2\" >$147.67</td>\n",
       "                        <td id=\"T_b31d1b2c_d815_11e9_8d5d_a0510b157e5crow6_col3\" class=\"data row6 col3\" >$4.76</td>\n",
       "            </tr>\n",
       "            <tr>\n",
       "                        <th id=\"T_b31d1b2c_d815_11e9_8d5d_a0510b157e5clevel0_row7\" class=\"row_heading level0 row7\" >40+</th>\n",
       "                        <td id=\"T_b31d1b2c_d815_11e9_8d5d_a0510b157e5crow7_col0\" class=\"data row7 col0\" >13</td>\n",
       "                        <td id=\"T_b31d1b2c_d815_11e9_8d5d_a0510b157e5crow7_col1\" class=\"data row7 col1\" >$2.94</td>\n",
       "                        <td id=\"T_b31d1b2c_d815_11e9_8d5d_a0510b157e5crow7_col2\" class=\"data row7 col2\" >$38.24</td>\n",
       "                        <td id=\"T_b31d1b2c_d815_11e9_8d5d_a0510b157e5crow7_col3\" class=\"data row7 col3\" >$3.19</td>\n",
       "            </tr>\n",
       "    </tbody></table>"
      ],
      "text/plain": [
       "<pandas.io.formats.style.Styler at 0x29446888940>"
      ]
     },
     "execution_count": 18,
     "metadata": {},
     "output_type": "execute_result"
    }
   ],
   "source": [
    "# getting the values: purchase count, average purchase price, total purchase value, average purchase total pp\n",
    "purchaseCount = ageGroupByDF[\"Purchase ID\"].count()\n",
    "avgPurchasePrice = ageGroupByDF[\"Price\"].mean()\n",
    "totPurchaseValue = ageGroupByDF[\"Price\"].sum()\n",
    "totAgeCount = ageGroupByDF[\"SN\"].nunique()\n",
    "avgPurchasePricePP = totPurchaseValue/totAgeCount\n",
    "\n",
    "# create data frame for the above values for Age Purchase Analysis\n",
    "ageDemographicAnalysisDF = pd.DataFrame({\"Purchase Count\": purchaseCount,\n",
    "                                 \"Average Purchase Price\": avgPurchasePrice,\n",
    "                                 \"Total Purchase Value\":totPurchaseValue,\n",
    "                                 \"Average Purchase Total Per Person\": avgPurchasePricePP})\n",
    "\n",
    "# format the float columns\n",
    "ageDemographicAnalysisDF.style.format({\"Average Purchase Price\":\"${:,.2f}\",\n",
    "                               \"Total Purchase Value\":\"${:,.2f}\",\n",
    "                               \"Average Purchase Total Per Person\":\"${:,.2f}\"})"
   ]
  },
  {
   "cell_type": "markdown",
   "metadata": {},
   "source": [
    "# Top Spenders\n",
    "\n",
    "* Identify the the top 5 spenders in the game by total purchase value, then list (in a table):\n",
    "\n",
    "    * SN\n",
    "    * Purchase Count\n",
    "    * Average Purchase Price\n",
    "    * Total Purchase Value"
   ]
  },
  {
   "cell_type": "code",
   "execution_count": 10,
   "metadata": {},
   "outputs": [],
   "source": [
    "# group by the player name\n",
    "playerGroupByDF = mainDF.groupby([\"SN\"])\n",
    "#playerGroupByDF.head()"
   ]
  },
  {
   "cell_type": "code",
   "execution_count": 19,
   "metadata": {},
   "outputs": [
    {
     "data": {
      "text/html": [
       "<style  type=\"text/css\" >\n",
       "</style><table id=\"T_b8d95012_d815_11e9_8453_a0510b157e5c\" ><thead>    <tr>        <th class=\"blank level0\" ></th>        <th class=\"col_heading level0 col0\" >Purchase Count</th>        <th class=\"col_heading level0 col1\" >Average Purchase Price</th>        <th class=\"col_heading level0 col2\" >Total Purchase Value</th>    </tr>    <tr>        <th class=\"index_name level0\" >SN</th>        <th class=\"blank\" ></th>        <th class=\"blank\" ></th>        <th class=\"blank\" ></th>    </tr></thead><tbody>\n",
       "                <tr>\n",
       "                        <th id=\"T_b8d95012_d815_11e9_8453_a0510b157e5clevel0_row0\" class=\"row_heading level0 row0\" >Lisosia93</th>\n",
       "                        <td id=\"T_b8d95012_d815_11e9_8453_a0510b157e5crow0_col0\" class=\"data row0 col0\" >5</td>\n",
       "                        <td id=\"T_b8d95012_d815_11e9_8453_a0510b157e5crow0_col1\" class=\"data row0 col1\" >$3.79</td>\n",
       "                        <td id=\"T_b8d95012_d815_11e9_8453_a0510b157e5crow0_col2\" class=\"data row0 col2\" >$18.96</td>\n",
       "            </tr>\n",
       "            <tr>\n",
       "                        <th id=\"T_b8d95012_d815_11e9_8453_a0510b157e5clevel0_row1\" class=\"row_heading level0 row1\" >Idastidru52</th>\n",
       "                        <td id=\"T_b8d95012_d815_11e9_8453_a0510b157e5crow1_col0\" class=\"data row1 col0\" >4</td>\n",
       "                        <td id=\"T_b8d95012_d815_11e9_8453_a0510b157e5crow1_col1\" class=\"data row1 col1\" >$3.86</td>\n",
       "                        <td id=\"T_b8d95012_d815_11e9_8453_a0510b157e5crow1_col2\" class=\"data row1 col2\" >$15.45</td>\n",
       "            </tr>\n",
       "            <tr>\n",
       "                        <th id=\"T_b8d95012_d815_11e9_8453_a0510b157e5clevel0_row2\" class=\"row_heading level0 row2\" >Chamjask73</th>\n",
       "                        <td id=\"T_b8d95012_d815_11e9_8453_a0510b157e5crow2_col0\" class=\"data row2 col0\" >3</td>\n",
       "                        <td id=\"T_b8d95012_d815_11e9_8453_a0510b157e5crow2_col1\" class=\"data row2 col1\" >$4.61</td>\n",
       "                        <td id=\"T_b8d95012_d815_11e9_8453_a0510b157e5crow2_col2\" class=\"data row2 col2\" >$13.83</td>\n",
       "            </tr>\n",
       "            <tr>\n",
       "                        <th id=\"T_b8d95012_d815_11e9_8453_a0510b157e5clevel0_row3\" class=\"row_heading level0 row3\" >Iral74</th>\n",
       "                        <td id=\"T_b8d95012_d815_11e9_8453_a0510b157e5crow3_col0\" class=\"data row3 col0\" >4</td>\n",
       "                        <td id=\"T_b8d95012_d815_11e9_8453_a0510b157e5crow3_col1\" class=\"data row3 col1\" >$3.40</td>\n",
       "                        <td id=\"T_b8d95012_d815_11e9_8453_a0510b157e5crow3_col2\" class=\"data row3 col2\" >$13.62</td>\n",
       "            </tr>\n",
       "            <tr>\n",
       "                        <th id=\"T_b8d95012_d815_11e9_8453_a0510b157e5clevel0_row4\" class=\"row_heading level0 row4\" >Iskadarya95</th>\n",
       "                        <td id=\"T_b8d95012_d815_11e9_8453_a0510b157e5crow4_col0\" class=\"data row4 col0\" >3</td>\n",
       "                        <td id=\"T_b8d95012_d815_11e9_8453_a0510b157e5crow4_col1\" class=\"data row4 col1\" >$4.37</td>\n",
       "                        <td id=\"T_b8d95012_d815_11e9_8453_a0510b157e5crow4_col2\" class=\"data row4 col2\" >$13.10</td>\n",
       "            </tr>\n",
       "    </tbody></table>"
      ],
      "text/plain": [
       "<pandas.io.formats.style.Styler at 0x294464c8fd0>"
      ]
     },
     "execution_count": 19,
     "metadata": {},
     "output_type": "execute_result"
    }
   ],
   "source": [
    "# getting the values: Purchase Count, Average Purchase Price, Total Purchase Value\n",
    "purchaseCount = playerGroupByDF[\"Purchase ID\"].count()\n",
    "avgPurchasePrice = playerGroupByDF[\"Price\"].mean()\n",
    "totalPurchaseValue = playerGroupByDF[\"Price\"].sum()\n",
    "\n",
    "# create data frame for the above values for Total Spenders\n",
    "totalSpendersDF = pd.DataFrame({\"Purchase Count\": purchaseCount,\n",
    "                             \"Average Purchase Price\": avgPurchasePrice,\n",
    "                             \"Total Purchase Value\":totalPurchaseValue})\n",
    "\n",
    "# top five spenders from the descending order list\n",
    "totalSpendersDF = totalSpendersDF.sort_values([\"Total Purchase Value\"], ascending=False).head()\n",
    "# format the float columns\n",
    "totalSpendersDF.style.format({\n",
    "    \"Average Purchase Price\":\"${:,.2f}\",\n",
    "    \"Total Purchase Value\":\"${:,.2f}\"})"
   ]
  },
  {
   "cell_type": "markdown",
   "metadata": {},
   "source": [
    "# Most Popular Items\n",
    "\n",
    "* Identify the 5 most popular items by purchase count, then list (in a table):\n",
    "\n",
    "    * Item ID\n",
    "    * Item Name\n",
    "    * Purchase Count\n",
    "    * Item Price\n",
    "    * Total Purchase Value"
   ]
  },
  {
   "cell_type": "code",
   "execution_count": 20,
   "metadata": {},
   "outputs": [
    {
     "data": {
      "text/html": [
       "<style  type=\"text/css\" >\n",
       "</style><table id=\"T_bbf7df1a_d815_11e9_bb47_a0510b157e5c\" ><thead>    <tr>        <th class=\"blank\" ></th>        <th class=\"blank level0\" ></th>        <th class=\"col_heading level0 col0\" >Purchase Count</th>        <th class=\"col_heading level0 col1\" >Item Price</th>        <th class=\"col_heading level0 col2\" >Total Purchase Value</th>    </tr>    <tr>        <th class=\"index_name level0\" >Item ID</th>        <th class=\"index_name level1\" >Item Name</th>        <th class=\"blank\" ></th>        <th class=\"blank\" ></th>        <th class=\"blank\" ></th>    </tr></thead><tbody>\n",
       "                <tr>\n",
       "                        <th id=\"T_bbf7df1a_d815_11e9_bb47_a0510b157e5clevel0_row0\" class=\"row_heading level0 row0\" >178</th>\n",
       "                        <th id=\"T_bbf7df1a_d815_11e9_bb47_a0510b157e5clevel1_row0\" class=\"row_heading level1 row0\" >Oathbreaker, Last Hope of the Breaking Storm</th>\n",
       "                        <td id=\"T_bbf7df1a_d815_11e9_bb47_a0510b157e5crow0_col0\" class=\"data row0 col0\" >12</td>\n",
       "                        <td id=\"T_bbf7df1a_d815_11e9_bb47_a0510b157e5crow0_col1\" class=\"data row0 col1\" >$4.23</td>\n",
       "                        <td id=\"T_bbf7df1a_d815_11e9_bb47_a0510b157e5crow0_col2\" class=\"data row0 col2\" >$50.76</td>\n",
       "            </tr>\n",
       "            <tr>\n",
       "                        <th id=\"T_bbf7df1a_d815_11e9_bb47_a0510b157e5clevel0_row1\" class=\"row_heading level0 row1\" >145</th>\n",
       "                        <th id=\"T_bbf7df1a_d815_11e9_bb47_a0510b157e5clevel1_row1\" class=\"row_heading level1 row1\" >Fiery Glass Crusader</th>\n",
       "                        <td id=\"T_bbf7df1a_d815_11e9_bb47_a0510b157e5crow1_col0\" class=\"data row1 col0\" >9</td>\n",
       "                        <td id=\"T_bbf7df1a_d815_11e9_bb47_a0510b157e5crow1_col1\" class=\"data row1 col1\" >$4.58</td>\n",
       "                        <td id=\"T_bbf7df1a_d815_11e9_bb47_a0510b157e5crow1_col2\" class=\"data row1 col2\" >$41.22</td>\n",
       "            </tr>\n",
       "            <tr>\n",
       "                        <th id=\"T_bbf7df1a_d815_11e9_bb47_a0510b157e5clevel0_row2\" class=\"row_heading level0 row2\" >108</th>\n",
       "                        <th id=\"T_bbf7df1a_d815_11e9_bb47_a0510b157e5clevel1_row2\" class=\"row_heading level1 row2\" >Extraction, Quickblade Of Trembling Hands</th>\n",
       "                        <td id=\"T_bbf7df1a_d815_11e9_bb47_a0510b157e5crow2_col0\" class=\"data row2 col0\" >9</td>\n",
       "                        <td id=\"T_bbf7df1a_d815_11e9_bb47_a0510b157e5crow2_col1\" class=\"data row2 col1\" >$3.53</td>\n",
       "                        <td id=\"T_bbf7df1a_d815_11e9_bb47_a0510b157e5crow2_col2\" class=\"data row2 col2\" >$31.77</td>\n",
       "            </tr>\n",
       "            <tr>\n",
       "                        <th id=\"T_bbf7df1a_d815_11e9_bb47_a0510b157e5clevel0_row3\" class=\"row_heading level0 row3\" >82</th>\n",
       "                        <th id=\"T_bbf7df1a_d815_11e9_bb47_a0510b157e5clevel1_row3\" class=\"row_heading level1 row3\" >Nirvana</th>\n",
       "                        <td id=\"T_bbf7df1a_d815_11e9_bb47_a0510b157e5crow3_col0\" class=\"data row3 col0\" >9</td>\n",
       "                        <td id=\"T_bbf7df1a_d815_11e9_bb47_a0510b157e5crow3_col1\" class=\"data row3 col1\" >$4.90</td>\n",
       "                        <td id=\"T_bbf7df1a_d815_11e9_bb47_a0510b157e5crow3_col2\" class=\"data row3 col2\" >$44.10</td>\n",
       "            </tr>\n",
       "            <tr>\n",
       "                        <th id=\"T_bbf7df1a_d815_11e9_bb47_a0510b157e5clevel0_row4\" class=\"row_heading level0 row4\" >19</th>\n",
       "                        <th id=\"T_bbf7df1a_d815_11e9_bb47_a0510b157e5clevel1_row4\" class=\"row_heading level1 row4\" >Pursuit, Cudgel of Necromancy</th>\n",
       "                        <td id=\"T_bbf7df1a_d815_11e9_bb47_a0510b157e5crow4_col0\" class=\"data row4 col0\" >8</td>\n",
       "                        <td id=\"T_bbf7df1a_d815_11e9_bb47_a0510b157e5crow4_col1\" class=\"data row4 col1\" >$1.02</td>\n",
       "                        <td id=\"T_bbf7df1a_d815_11e9_bb47_a0510b157e5crow4_col2\" class=\"data row4 col2\" >$8.16</td>\n",
       "            </tr>\n",
       "    </tbody></table>"
      ],
      "text/plain": [
       "<pandas.io.formats.style.Styler at 0x29446888978>"
      ]
     },
     "execution_count": 20,
     "metadata": {},
     "output_type": "execute_result"
    }
   ],
   "source": [
    "# get data frame for the items and group by on Item ID and Item Name\n",
    "itemsDF = mainDF[[\"Item ID\", \"Item Name\", \"Price\"]].groupby([\"Item ID\", \"Item Name\"])\n",
    "totItemPurchaseCount = itemsDF[\"Price\"].count()\n",
    "totItemPurchaseValue = itemsDF[\"Price\"].sum()\n",
    "perItemPrice = totItemPurchaseValue/totItemPurchaseCount\n",
    "\n",
    "itemsDF = pd.DataFrame({\"Purchase Count\": totItemPurchaseCount, \n",
    "                                   \"Item Price\": perItemPrice,\n",
    "                                   \"Total Purchase Value\":totItemPurchaseValue})\n",
    "\n",
    "# top five popular items from the descending order list\n",
    "topPopularItemsDF = itemsDF.sort_values([\"Purchase Count\"], ascending=False).head()\n",
    "# format the float columns\n",
    "topPopularItemsDF.style.format({\"Item Price\":\"${:,.2f}\",\n",
    "                                \"Total Purchase Value\":\"${:,.2f}\"})"
   ]
  },
  {
   "cell_type": "markdown",
   "metadata": {},
   "source": [
    "# Most Profitable Items\n",
    "\n",
    "* Identify the 5 most profitable items by total purchase value, then list (in a table):\n",
    "\n",
    "    * Item ID\n",
    "    * Item Name\n",
    "    * Purchase Count\n",
    "    * Item Price\n",
    "    * Total Purchase Value"
   ]
  },
  {
   "cell_type": "code",
   "execution_count": 21,
   "metadata": {},
   "outputs": [
    {
     "data": {
      "text/html": [
       "<style  type=\"text/css\" >\n",
       "</style><table id=\"T_c0220b68_d815_11e9_8984_a0510b157e5c\" ><thead>    <tr>        <th class=\"blank\" ></th>        <th class=\"blank level0\" ></th>        <th class=\"col_heading level0 col0\" >Purchase Count</th>        <th class=\"col_heading level0 col1\" >Item Price</th>        <th class=\"col_heading level0 col2\" >Total Purchase Value</th>    </tr>    <tr>        <th class=\"index_name level0\" >Item ID</th>        <th class=\"index_name level1\" >Item Name</th>        <th class=\"blank\" ></th>        <th class=\"blank\" ></th>        <th class=\"blank\" ></th>    </tr></thead><tbody>\n",
       "                <tr>\n",
       "                        <th id=\"T_c0220b68_d815_11e9_8984_a0510b157e5clevel0_row0\" class=\"row_heading level0 row0\" >178</th>\n",
       "                        <th id=\"T_c0220b68_d815_11e9_8984_a0510b157e5clevel1_row0\" class=\"row_heading level1 row0\" >Oathbreaker, Last Hope of the Breaking Storm</th>\n",
       "                        <td id=\"T_c0220b68_d815_11e9_8984_a0510b157e5crow0_col0\" class=\"data row0 col0\" >12</td>\n",
       "                        <td id=\"T_c0220b68_d815_11e9_8984_a0510b157e5crow0_col1\" class=\"data row0 col1\" >$4.23</td>\n",
       "                        <td id=\"T_c0220b68_d815_11e9_8984_a0510b157e5crow0_col2\" class=\"data row0 col2\" >$50.76</td>\n",
       "            </tr>\n",
       "            <tr>\n",
       "                        <th id=\"T_c0220b68_d815_11e9_8984_a0510b157e5clevel0_row1\" class=\"row_heading level0 row1\" >82</th>\n",
       "                        <th id=\"T_c0220b68_d815_11e9_8984_a0510b157e5clevel1_row1\" class=\"row_heading level1 row1\" >Nirvana</th>\n",
       "                        <td id=\"T_c0220b68_d815_11e9_8984_a0510b157e5crow1_col0\" class=\"data row1 col0\" >9</td>\n",
       "                        <td id=\"T_c0220b68_d815_11e9_8984_a0510b157e5crow1_col1\" class=\"data row1 col1\" >$4.90</td>\n",
       "                        <td id=\"T_c0220b68_d815_11e9_8984_a0510b157e5crow1_col2\" class=\"data row1 col2\" >$44.10</td>\n",
       "            </tr>\n",
       "            <tr>\n",
       "                        <th id=\"T_c0220b68_d815_11e9_8984_a0510b157e5clevel0_row2\" class=\"row_heading level0 row2\" >145</th>\n",
       "                        <th id=\"T_c0220b68_d815_11e9_8984_a0510b157e5clevel1_row2\" class=\"row_heading level1 row2\" >Fiery Glass Crusader</th>\n",
       "                        <td id=\"T_c0220b68_d815_11e9_8984_a0510b157e5crow2_col0\" class=\"data row2 col0\" >9</td>\n",
       "                        <td id=\"T_c0220b68_d815_11e9_8984_a0510b157e5crow2_col1\" class=\"data row2 col1\" >$4.58</td>\n",
       "                        <td id=\"T_c0220b68_d815_11e9_8984_a0510b157e5crow2_col2\" class=\"data row2 col2\" >$41.22</td>\n",
       "            </tr>\n",
       "            <tr>\n",
       "                        <th id=\"T_c0220b68_d815_11e9_8984_a0510b157e5clevel0_row3\" class=\"row_heading level0 row3\" >92</th>\n",
       "                        <th id=\"T_c0220b68_d815_11e9_8984_a0510b157e5clevel1_row3\" class=\"row_heading level1 row3\" >Final Critic</th>\n",
       "                        <td id=\"T_c0220b68_d815_11e9_8984_a0510b157e5crow3_col0\" class=\"data row3 col0\" >8</td>\n",
       "                        <td id=\"T_c0220b68_d815_11e9_8984_a0510b157e5crow3_col1\" class=\"data row3 col1\" >$4.88</td>\n",
       "                        <td id=\"T_c0220b68_d815_11e9_8984_a0510b157e5crow3_col2\" class=\"data row3 col2\" >$39.04</td>\n",
       "            </tr>\n",
       "            <tr>\n",
       "                        <th id=\"T_c0220b68_d815_11e9_8984_a0510b157e5clevel0_row4\" class=\"row_heading level0 row4\" >103</th>\n",
       "                        <th id=\"T_c0220b68_d815_11e9_8984_a0510b157e5clevel1_row4\" class=\"row_heading level1 row4\" >Singed Scalpel</th>\n",
       "                        <td id=\"T_c0220b68_d815_11e9_8984_a0510b157e5crow4_col0\" class=\"data row4 col0\" >8</td>\n",
       "                        <td id=\"T_c0220b68_d815_11e9_8984_a0510b157e5crow4_col1\" class=\"data row4 col1\" >$4.35</td>\n",
       "                        <td id=\"T_c0220b68_d815_11e9_8984_a0510b157e5crow4_col2\" class=\"data row4 col2\" >$34.80</td>\n",
       "            </tr>\n",
       "    </tbody></table>"
      ],
      "text/plain": [
       "<pandas.io.formats.style.Styler at 0x29445c10ac8>"
      ]
     },
     "execution_count": 21,
     "metadata": {},
     "output_type": "execute_result"
    }
   ],
   "source": [
    "# top five profitable items from the descending order list\n",
    "topPopularItemsDF = itemsDF.sort_values([\"Total Purchase Value\"], ascending=False).head()\n",
    "# format the float columns\n",
    "topPopularItemsDF.style.format({\"Item Price\":\"${:,.2f}\",\n",
    "                                \"Total Purchase Value\":\"${:,.2f}\"})"
   ]
  },
  {
   "cell_type": "code",
   "execution_count": null,
   "metadata": {},
   "outputs": [],
   "source": []
  }
 ],
 "metadata": {
  "kernelspec": {
   "display_name": "Python 3",
   "language": "python",
   "name": "python3"
  },
  "language_info": {
   "codemirror_mode": {
    "name": "ipython",
    "version": 3
   },
   "file_extension": ".py",
   "mimetype": "text/x-python",
   "name": "python",
   "nbconvert_exporter": "python",
   "pygments_lexer": "ipython3",
   "version": "3.7.3"
  }
 },
 "nbformat": 4,
 "nbformat_minor": 2
}
