{
 "cells": [
  {
   "cell_type": "code",
   "execution_count": 1,
   "metadata": {},
   "outputs": [
    {
     "data": {
      "text/plain": [
       "<sqlalchemy.engine.base.Connection at 0x27724215d68>"
      ]
     },
     "execution_count": 1,
     "metadata": {},
     "output_type": "execute_result"
    }
   ],
   "source": [
    "# pip install psycopg2 if error=> ImportError: No module named psycopg2\n",
    "import databaseconfig as config\n",
    "import pandas as pd\n",
    "import matplotlib as mp\n",
    "import matplotlib.pyplot as plt\n",
    "import seaborn as sns\n",
    "from sqlalchemy import create_engine\n",
    "%matplotlib inline\n",
    "\n",
    "# creating connection url and connectiong to Postgres DB\n",
    "connURL = f\"postgresql://{config.mysql['user']}:{config.mysql['password']}{config.mysql['url']}\"\n",
    "engine = create_engine(connURL)\n",
    "\n",
    "# create connection\n",
    "connection = engine.connect()\n",
    "connection"
   ]
  },
  {
   "cell_type": "markdown",
   "metadata": {},
   "source": [
    "### Create a histogram to visualize the most common salary ranges for employees."
   ]
  },
  {
   "cell_type": "code",
   "execution_count": 2,
   "metadata": {},
   "outputs": [
    {
     "data": {
      "text/html": [
       "<div>\n",
       "<style scoped>\n",
       "    .dataframe tbody tr th:only-of-type {\n",
       "        vertical-align: middle;\n",
       "    }\n",
       "\n",
       "    .dataframe tbody tr th {\n",
       "        vertical-align: top;\n",
       "    }\n",
       "\n",
       "    .dataframe thead th {\n",
       "        text-align: right;\n",
       "    }\n",
       "</style>\n",
       "<table border=\"1\" class=\"dataframe\">\n",
       "  <thead>\n",
       "    <tr style=\"text-align: right;\">\n",
       "      <th></th>\n",
       "      <th>EMP_NO</th>\n",
       "      <th>LAST_NAME</th>\n",
       "      <th>FIRST_NAME</th>\n",
       "      <th>SALARY</th>\n",
       "    </tr>\n",
       "  </thead>\n",
       "  <tbody>\n",
       "    <tr>\n",
       "      <th>0</th>\n",
       "      <td>10005</td>\n",
       "      <td>Maliniak</td>\n",
       "      <td>Kyoichi</td>\n",
       "      <td>78228</td>\n",
       "    </tr>\n",
       "    <tr>\n",
       "      <th>1</th>\n",
       "      <td>10010</td>\n",
       "      <td>Piveteau</td>\n",
       "      <td>Duangkaew</td>\n",
       "      <td>72488</td>\n",
       "    </tr>\n",
       "    <tr>\n",
       "      <th>2</th>\n",
       "      <td>10011</td>\n",
       "      <td>Sluis</td>\n",
       "      <td>Mary</td>\n",
       "      <td>42365</td>\n",
       "    </tr>\n",
       "    <tr>\n",
       "      <th>3</th>\n",
       "      <td>10013</td>\n",
       "      <td>Terkki</td>\n",
       "      <td>Eberhardt</td>\n",
       "      <td>40000</td>\n",
       "    </tr>\n",
       "    <tr>\n",
       "      <th>4</th>\n",
       "      <td>10017</td>\n",
       "      <td>Bouloucos</td>\n",
       "      <td>Cristinel</td>\n",
       "      <td>71380</td>\n",
       "    </tr>\n",
       "  </tbody>\n",
       "</table>\n",
       "</div>"
      ],
      "text/plain": [
       "   EMP_NO  LAST_NAME FIRST_NAME  SALARY\n",
       "0   10005   Maliniak    Kyoichi   78228\n",
       "1   10010   Piveteau  Duangkaew   72488\n",
       "2   10011      Sluis       Mary   42365\n",
       "3   10013     Terkki  Eberhardt   40000\n",
       "4   10017  Bouloucos  Cristinel   71380"
      ]
     },
     "execution_count": 2,
     "metadata": {},
     "output_type": "execute_result"
    }
   ],
   "source": [
    "# read data from the tables to pd dataframes\n",
    "empSalDF = pd.read_sql('SELECT EMP.\"EMP_NO\", EMP.\"LAST_NAME\", EMP.\"FIRST_NAME\", SAL.\"SALARY\" FROM \"EMPLOYEES\" as EMP LEFT JOIN \"SALARIES\" as SAL on (EMP.\"EMP_NO\" = SAL.\"EMP_NO\")', connection)\n",
    "empSalDF.head()"
   ]
  },
  {
   "cell_type": "code",
   "execution_count": 3,
   "metadata": {},
   "outputs": [
    {
     "data": {
      "text/plain": [
       "(300024, 4)"
      ]
     },
     "execution_count": 3,
     "metadata": {},
     "output_type": "execute_result"
    }
   ],
   "source": [
    "# dataframe dimensions\n",
    "empSalDF.shape"
   ]
  },
  {
   "cell_type": "code",
   "execution_count": 9,
   "metadata": {},
   "outputs": [
    {
     "data": {
      "image/png": "[encoded data removed]",
      "text/plain": [
       "<Figure size 1080x576 with 1 Axes>"
      ]
     },
     "metadata": {
      "needs_background": "light"
     },
     "output_type": "display_data"
    }
   ],
   "source": [
    "ax =  empSalDF.hist(column='SALARY', figsize=(15, 8), color='#86bf91', grid=False, bins=10)\n",
    "ax = ax[0]\n",
    "for x in ax:\n",
    "    x.set_title(\"Most Common Salary Ranges For Employees\")\n",
    "    x.xaxis.set_major_formatter(mp.ticker.StrMethodFormatter('${x:,g}'))\n",
    "    x.xaxis.set_major_locator(plt.MaxNLocator(4))\n",
    "    x.set_xlim(empSalDF[\"SALARY\"].min(), empSalDF[\"SALARY\"].max())\n",
    "    x.set_ylim(0, empSalDF[\"SALARY\"].max())\n",
    "    vals = x.get_yticks()\n",
    "    for tick in vals:\n",
    "        x.axhline(y=tick, linestyle='solid', alpha=0.2, color='#eeeeee', zorder=1)"
   ]
  },
  {
   "cell_type": "markdown",
   "metadata": {},
   "source": [
    "### Create a bar chart of average salary by title."
   ]
  },
  {
   "cell_type": "code",
   "execution_count": 14,
   "metadata": {},
   "outputs": [
    {
     "data": {
      "text/html": [
       "<div>\n",
       "<style scoped>\n",
       "    .dataframe tbody tr th:only-of-type {\n",
       "        vertical-align: middle;\n",
       "    }\n",
       "\n",
       "    .dataframe tbody tr th {\n",
       "        vertical-align: top;\n",
       "    }\n",
       "\n",
       "    .dataframe thead th {\n",
       "        text-align: right;\n",
       "    }\n",
       "</style>\n",
       "<table border=\"1\" class=\"dataframe\">\n",
       "  <thead>\n",
       "    <tr style=\"text-align: right;\">\n",
       "      <th></th>\n",
       "      <th>TITLES</th>\n",
       "      <th>SALARY</th>\n",
       "    </tr>\n",
       "  </thead>\n",
       "  <tbody>\n",
       "    <tr>\n",
       "      <th>0</th>\n",
       "      <td>Assistant Engineer</td>\n",
       "      <td>48493.20</td>\n",
       "    </tr>\n",
       "    <tr>\n",
       "      <th>1</th>\n",
       "      <td>Engineer</td>\n",
       "      <td>48539.78</td>\n",
       "    </tr>\n",
       "    <tr>\n",
       "      <th>2</th>\n",
       "      <td>Manager</td>\n",
       "      <td>51531.04</td>\n",
       "    </tr>\n",
       "    <tr>\n",
       "      <th>3</th>\n",
       "      <td>Senior Engineer</td>\n",
       "      <td>48506.75</td>\n",
       "    </tr>\n",
       "    <tr>\n",
       "      <th>4</th>\n",
       "      <td>Senior Staff</td>\n",
       "      <td>58503.29</td>\n",
       "    </tr>\n",
       "    <tr>\n",
       "      <th>5</th>\n",
       "      <td>Staff</td>\n",
       "      <td>58465.27</td>\n",
       "    </tr>\n",
       "    <tr>\n",
       "      <th>6</th>\n",
       "      <td>Technique Leader</td>\n",
       "      <td>48580.51</td>\n",
       "    </tr>\n",
       "  </tbody>\n",
       "</table>\n",
       "</div>"
      ],
      "text/plain": [
       "               TITLES    SALARY\n",
       "0  Assistant Engineer  48493.20\n",
       "1            Engineer  48539.78\n",
       "2             Manager  51531.04\n",
       "3     Senior Engineer  48506.75\n",
       "4        Senior Staff  58503.29\n",
       "5               Staff  58465.27\n",
       "6    Technique Leader  48580.51"
      ]
     },
     "execution_count": 14,
     "metadata": {},
     "output_type": "execute_result"
    }
   ],
   "source": [
    "avgSalaryDF = pd.read_sql('SELECT TL.\"TITLES\", ROUND(AVG(SAL.\"SALARY\"), 2) AS \"SALARY\" FROM \"EMPLOYEES\" as EMP LEFT JOIN \"SALARIES\" as SAL on (EMP.\"EMP_NO\" = SAL.\"EMP_NO\") JOIN \"TITLES\" as TL on (EMP.\"EMP_NO\" = TL.\"EMP_NO\") GROUP BY TL.\"TITLES\"', connection)\n",
    "avgSalaryDF.head(10)"
   ]
  },
  {
   "cell_type": "code",
   "execution_count": 43,
   "metadata": {},
   "outputs": [
    {
     "data": {
      "text/plain": [
       "[Text(0, 0, 'Assistant Engineer'),\n",
       " Text(0, 0, 'Engineer'),\n",
       " Text(0, 0, 'Manager'),\n",
       " Text(0, 0, 'Senior Engineer'),\n",
       " Text(0, 0, 'Senior Staff'),\n",
       " Text(0, 0, 'Staff'),\n",
       " Text(0, 0, 'Technique Leader')]"
      ]
     },
     "execution_count": 43,
     "metadata": {},
     "output_type": "execute_result"
    },
    {
     "data": {
      "image/png": "[encoded data removed]",
      "text/plain": [
       "<Figure size 1080x576 with 1 Axes>"
      ]
     },
     "metadata": {
      "needs_background": "light"
     },
     "output_type": "display_data"
    }
   ],
   "source": [
    "ax = avgSalaryDF.plot.barh(figsize=(15, 8), color='#86bf91', grid=False)\n",
    "ax.set_title(\"Average Salary By Title\")\n",
    "ax.xaxis.set_major_formatter(mp.ticker.StrMethodFormatter('${x:,g}'))\n",
    "ax.set_xlim(0, avgSalaryDF[\"SALARY\"].max() + 1000)\n",
    "ax.set_yticklabels(avgSalaryDF['TITLES'])"
   ]
  },
  {
   "cell_type": "code",
   "execution_count": null,
   "metadata": {},
   "outputs": [],
   "source": []
  }
 ],
 "metadata": {
  "kernelspec": {
   "display_name": "Python 3",
   "language": "python",
   "name": "python3"
  },
  "language_info": {
   "codemirror_mode": {
    "name": "ipython",
    "version": 3
   },
   "file_extension": ".py",
   "mimetype": "text/x-python",
   "name": "python",
   "nbconvert_exporter": "python",
   "pygments_lexer": "ipython3",
   "version": "3.7.3"
  }
 },
 "nbformat": 4,
 "nbformat_minor": 2
}
