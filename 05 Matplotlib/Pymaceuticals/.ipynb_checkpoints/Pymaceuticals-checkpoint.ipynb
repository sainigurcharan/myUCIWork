{
 "cells": [
  {
   "cell_type": "markdown",
   "metadata": {},
   "source": [
    "## Observations and Insights"
   ]
  },
  {
   "cell_type": "markdown",
   "metadata": {},
   "source": [
    "* Capomulin shown the maximum reduction in tumor growth\n",
    "* Mouse weight contributes shows the significant  effectiveness in curing tumor of drug regimen."
   ]
  },
  {
   "cell_type": "markdown",
   "metadata": {},
   "source": [
    "## Dependencies and starter code"
   ]
  },
  {
   "cell_type": "code",
   "execution_count": null,
   "metadata": {},
   "outputs": [],
   "source": [
    "# Dependencies and Setup\n",
    "%matplotlib notebook\n",
    "import matplotlib.pyplot as plt\n",
    "import pandas as pd\n",
    "import numpy as np\n",
    "import scipy.stats as st\n",
    "\n",
    "# Study data files\n",
    "mouseDataFile = \"data/Mouse_metadata.csv\"\n",
    "studyDataFile = \"data/Study_results.csv\"\n",
    "\n",
    "# Read the mouse data and the study results\n",
    "mouseData = pd.read_csv(mouseDataFile)\n",
    "studyData = pd.read_csv(studyDataFile)\n",
    "\n",
    "# Combine the data into a single dataset\n",
    "combineData = pd.merge(studyData, mouseData, on=\"Mouse ID\", how=\"left\")\n",
    "combineData.head()"
   ]
  },
  {
   "cell_type": "markdown",
   "metadata": {},
   "source": [
    "## Summary statistics"
   ]
  },
  {
   "cell_type": "code",
   "execution_count": null,
   "metadata": {},
   "outputs": [],
   "source": [
    "# Generate a summary statistics table of \n",
    "# mean, median, variance, standard deviation, and SEM of the tumor volume for each regimen\n",
    "summaryData = combineData[[\"Drug Regimen\", \"Tumor Volume (mm3)\"]]\n",
    "groupByData = summaryData.groupby([\"Drug Regimen\"])\n",
    "\n",
    "summaryDF = pd.DataFrame({\n",
    "    \"Mean\": groupByData[\"Tumor Volume (mm3)\"].mean().map('{:.2f}'.format),\n",
    "    \"Median\": groupByData[\"Tumor Volume (mm3)\"].median().map('{:.2f}'.format),\n",
    "    \"Mode\": groupByData[\"Tumor Volume (mm3)\"].agg(pd.Series.mode).map('{:.2f}'.format),\n",
    "    \"Variance\": groupByData[\"Tumor Volume (mm3)\"].var().map('{:.2f}'.format),\n",
    "    \"Standard Variance\": groupByData[\"Tumor Volume (mm3)\"].std().map('{:.2f}'.format),\n",
    "    \"SEM\": groupByData[\"Tumor Volume (mm3)\"].sem().map('{:.2f}'.format)\n",
    "})\n",
    "\n",
    "summaryDF.head()"
   ]
  },
  {
   "cell_type": "markdown",
   "metadata": {},
   "source": [
    "## Bar plots"
   ]
  },
  {
   "cell_type": "code",
   "execution_count": null,
   "metadata": {},
   "outputs": [],
   "source": [
    "# \n",
    "combineData.groupby(\"Drug Regimen\")\n",
    "groupByData = combineData.groupby(\"Drug Regimen\")\n",
    "summaryDF = groupByData[\"Tumor Volume (mm3)\"].mean().to_frame()\n",
    "summaryDF.head()"
   ]
  },
  {
   "cell_type": "code",
   "execution_count": null,
   "metadata": {},
   "outputs": [],
   "source": [
    "# Generate a bar plot showing number of data points for each treatment regimen using pandas\n",
    "summaryDF.plot(kind=\"bar\", figsize=(5,3))\n",
    "plt.title(\"Data points for each treatment regimen\")\n",
    "plt.xlabel(\"Drug Regimen\")\n",
    "plt.ylabel(\"Average Tumor Volume (mm3)\")\n",
    "plt.show()\n",
    "plt.tight_layout()"
   ]
  },
  {
   "cell_type": "code",
   "execution_count": null,
   "metadata": {},
   "outputs": [],
   "source": [
    "# Generate a bar plot showing number of data points for each treatment regimen using pyplot\n",
    "xAxis = np.arange(len(summaryDF))\n",
    "tickLocations = [value for value in xAxis]\n",
    "\n",
    "plt.figure(figsize=(6, 3))\n",
    "plt.bar(xAxis, summaryDF[\"Tumor Volume (mm3)\"], color='red', alpha=0.5)\n",
    "plt.xticks(tickLocations, list(summaryDF.index), rotation=\"vertical\") #, summaryDF[\"Drug Regimen\"]\n",
    "plt.xlim(-0.75, len(xAxis) - 0.25)\n",
    "plt.ylim(0, 60)\n",
    "plt.title(\"Data points for each treatment regimen\")\n",
    "plt.xlabel(\"Drug Regimen\")\n",
    "plt.ylabel(\"Average Tumor Volume (mm3)\")\n",
    "plt.tight_layout()\n",
    "plt.show()"
   ]
  },
  {
   "cell_type": "markdown",
   "metadata": {},
   "source": [
    "## Pie plots"
   ]
  },
  {
   "cell_type": "code",
   "execution_count": null,
   "metadata": {},
   "outputs": [],
   "source": [
    "# Generate a pie plot showing the distribution of female versus male mice using pandas\n",
    "miceCount = mouseData[\"Sex\"].value_counts()\n",
    "plt.figure()\n",
    "miceCount.plot(kind=\"pie\", autopct='%1.1f%%')\n",
    "plt.tight_layout()\n",
    "plt.axis(\"equal\")\n",
    "plt.title(\"Distribution of female versus male mice\")\n",
    "plt.tight_layout()\n",
    "plt.show()"
   ]
  },
  {
   "cell_type": "code",
   "execution_count": null,
   "metadata": {},
   "outputs": [],
   "source": [
    "# Generate a pie plot showing the distribution of female versus male mice using pyplot\n",
    "colors = [\"red\",\"blue\"]\n",
    "explode = (0.1,0)\n",
    "plt.figure()\n",
    "plt.pie(miceCount.values, explode=explode, labels=miceCount.index.values, colors=colors,\n",
    "        autopct=\"%1.1f%%\", shadow=True, startangle=140)\n",
    "# Create axes which are equal so we have a perfect circle\n",
    "plt.axis(\"equal\")\n",
    "plt.title(\"Distribution of female versus male mice\")\n",
    "plt.show()"
   ]
  },
  {
   "cell_type": "markdown",
   "metadata": {},
   "source": [
    "## Quartiles, outliers and boxplots"
   ]
  },
  {
   "cell_type": "code",
   "execution_count": null,
   "metadata": {},
   "outputs": [],
   "source": [
    "# Calculate the final tumor volume of each mouse across four of the most promising treatment regimens. Calculate the IQR and quantitatively determine if there are any potential outliers. \n",
    "# Capomulin, Ramicane, Infubinol, and Ceftamin\n",
    "regimenData = combineData[(combineData[\"Drug Regimen\"] == \"Capomulin\") | \n",
    "                          (combineData[\"Drug Regimen\"] == \"Ramicane\") | \n",
    "                          (combineData[\"Drug Regimen\"] == \"Infubinol\") | \n",
    "                          (combineData[\"Drug Regimen\"] == \"Ceftamin\")]\n",
    "\n",
    "regimenData = regimenData[[\"Mouse ID\", \"Drug Regimen\", \"Tumor Volume (mm3)\"]]\n",
    "regimenData = regimenData.groupby([\"Mouse ID\", \"Drug Regimen\"])\n",
    "regimenDF = regimenData[\"Tumor Volume (mm3)\"].sum().to_frame()\n",
    "regimenPlot = regimenDF[\"Tumor Volume (mm3)\"]\n",
    "regimenDF.head()\n",
    "\n",
    "# quartile calculations\n",
    "quartiles = regimenPlot.quantile([.25,.5,.75])\n",
    "lowerq = quartiles[0.25]\n",
    "upperq = quartiles[0.75]\n",
    "iqr = upperq-lowerq\n",
    "\n",
    "print(f\"The lower quartile of Tumor Volume (mm3) is: {lowerq}\")\n",
    "print(f\"The upper quartile of Tumor Volume (mm3) is: {upperq}\")\n",
    "print(f\"The interquartile range of Tumor Volume (mm3) is: {iqr}\")\n",
    "print(f\"The the median of Tumor Volume (mm3) is: {quartiles[0.5]} \")\n",
    "\n",
    "lower_bound = lowerq - (1.5*iqr)\n",
    "upper_bound = upperq + (1.5*iqr)\n",
    "print(f\"Values below {lower_bound} could be outliers.\")\n",
    "print(f\"Values above {upper_bound} could be outliers.\")"
   ]
  },
  {
   "cell_type": "code",
   "execution_count": null,
   "metadata": {},
   "outputs": [],
   "source": [
    "# Generate a box plot of the final tumor volume of each mouse across four regimens of interest\n",
    "fig1, ax1 = plt.subplots()\n",
    "ax1.set_title('Final tumor volume of each mouse across regimens of interest')\n",
    "ax1.set_ylabel('Tumor Volume (mm3)')\n",
    "ax1.boxplot(regimenPlot)\n",
    "plt.show()"
   ]
  },
  {
   "cell_type": "markdown",
   "metadata": {},
   "source": [
    "## Line and scatter plots"
   ]
  },
  {
   "cell_type": "code",
   "execution_count": null,
   "metadata": {},
   "outputs": [],
   "source": [
    "# Generate a line plot of time point versus tumor volume for a mouse treated with Capomulin\n",
    "tumorData = combineData[(combineData[\"Drug Regimen\"] == \"Capomulin\")]\n",
    "tumorData = tumorData.groupby([\"Drug Regimen\", \"Timepoint\"])\n",
    "tumorDataDF = tumorData[\"Tumor Volume (mm3)\"].mean().to_frame()\n",
    "tumorIndexDataDF = tumorDataDF.unstack(0)\n",
    "tumorPlotDF = tumorIndexDataDF[\"Tumor Volume (mm3)\"]\n",
    "\n",
    "xAxis = [0,5,10,15,20,25,30,35,40,45]\n",
    "plt.figure()\n",
    "tumorTotal, = plt.plot(xAxis, tumorPlotDF[\"Capomulin\"], marker= \"o\", color=\"blue\", label=\"Total Tumor Volume\" )\n",
    "plt.legend(handles=[tumorTotal], loc=\"best\")\n",
    "plt.title(\"Time Point Vs Average Tumor Volume\")\n",
    "plt.xlim(-10, 60)\n",
    "plt.ylim(30, 50)\n",
    "plt.xlabel(\"Time Point\")\n",
    "plt.ylabel(\"Average Tumor Volume (mm3)\")\n",
    "plt.grid(True)\n",
    "plt.show()"
   ]
  },
  {
   "cell_type": "code",
   "execution_count": null,
   "metadata": {},
   "outputs": [],
   "source": [
    "scatterData = combineData[(combineData[\"Drug Regimen\"] == \"Capomulin\")]\n",
    "scatterData = scatterData[[\"Weight (g)\", \"Tumor Volume (mm3)\"]]\n",
    "groupByData = scatterData.groupby([\"Weight (g)\"])\n",
    "scatterDataDF = groupByData[\"Tumor Volume (mm3)\"].mean().to_frame()\n",
    "scatterDataDF.head()"
   ]
  },
  {
   "cell_type": "code",
   "execution_count": null,
   "metadata": {
    "scrolled": true
   },
   "outputs": [],
   "source": [
    "# Generate a scatter plot of mouse weight versus average tumor volume for the Capomulin regimen\n",
    "plt.figure()\n",
    "plt.scatter(scatterDataDF.index, scatterDataDF[\"Tumor Volume (mm3)\"], marker=\"o\")\n",
    "\n",
    "plt.title(\"Mouse Weight Vs Average Tumor Volume\")\n",
    "plt.xlim(13, 26)\n",
    "plt.ylim(30, 50)\n",
    "plt.xlabel(\"Mouse Weight\")\n",
    "plt.ylabel(\"Average Tumor Volume (mm3)\")\n",
    "plt.grid(True)\n",
    "plt.show()"
   ]
  },
  {
   "cell_type": "code",
   "execution_count": null,
   "metadata": {},
   "outputs": [],
   "source": [
    "# Calculate the correlation coefficient for mouse weight and average tumor volume for the Capomulin regimen\n",
    "correlation = st.pearsonr(scatterDataDF.index, scatterDataDF[\"Tumor Volume (mm3)\"])\n",
    "print(f\"The correlation between both factors is {round(correlation[0],2)}\")"
   ]
  },
  {
   "cell_type": "code",
   "execution_count": null,
   "metadata": {},
   "outputs": [],
   "source": [
    "#linear regression model for mouse weight and average tumor volume for the Capomulin regimen\n",
    "x_values = scatterDataDF.index\n",
    "y_values = scatterDataDF[\"Tumor Volume (mm3)\"]\n",
    "plt.figure()\n",
    "(slope, intercept, rvalue, pvalue, stderr) = st.linregress(x_values, y_values)\n",
    "regress_values = x_values * slope + intercept\n",
    "line_eq = \"y = \" + str(round(slope,2)) + \"x + \" + str(round(intercept,2))\n",
    "plt.scatter(x_values,y_values)\n",
    "plt.plot(x_values,regress_values,\"r-\")\n",
    "plt.xlim(13, 26)\n",
    "plt.ylim(30, 50)\n",
    "plt.annotate(line_eq,(20,32),fontsize=15,color=\"red\")\n",
    "plt.title(\"Mouse Weight Vs Average Tumor Volume\")\n",
    "plt.xlabel(\"Mouse Weight\")\n",
    "plt.ylabel(\"Average Tumor Volume (mm3)\")\n",
    "plt.grid(True)\n",
    "plt.show()"
   ]
  }
 ],
 "metadata": {
  "anaconda-cloud": {},
  "kernelspec": {
   "display_name": "Python 3",
   "language": "python",
   "name": "python3"
  },
  "language_info": {
   "codemirror_mode": {
    "name": "ipython",
    "version": 3
   },
   "file_extension": ".py",
   "mimetype": "text/x-python",
   "name": "python",
   "nbconvert_exporter": "python",
   "pygments_lexer": "ipython3",
   "version": "3.7.3"
  }
 },
 "nbformat": 4,
 "nbformat_minor": 2
}
